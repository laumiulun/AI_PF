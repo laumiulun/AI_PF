{
 "cells": [
  {
   "cell_type": "code",
   "execution_count": 3,
   "metadata": {},
   "outputs": [],
   "source": [
    "import requests\n",
    "import json\n",
    "import numpy \n",
    "import matplotlib\n",
    "import urllib"
   ]
  },
  {
   "cell_type": "code",
   "execution_count": 5,
   "metadata": {},
   "outputs": [],
   "source": [
    "## API-key\n",
    "# Input API KEY\n",
    "headers = {'X-API-KEY':'3R9zWcrIXJat8wpM'}\n",
    "## List of available request type\n",
    "# only material is implemented\n",
    "type_req = [\"materials\",\"battery\",\"reaction\",\"mpquery\",\"api_check\"]\n",
    "## List of available parameters\n",
    "mat_list_para = [\"pretty_formula\",\"unit_cell_formula\",\"icsd_ids\",\"energy\",\"energy_per_atom\",\\\n",
    "                 \"volume\",\"density\",\"nsites\",\"elements\",\"nelements\",\"spacegroup\",\"initial_structure\",\\\n",
    "                 \"final_structure\",\"structure\",\"cif\",\"formlation_energy_per_atom\",\"e_above_hull\",\\\n",
    "                 \"elasticity\",\"piezo\",\"diel\",\"is_hubbard\",\"hubbards\",\"is_compatible\",\\\n",
    "                 \"band_gap\",\"dos\",\"bandstructure\",\"bandstructure_uniform\",\"entry\",\"total_magnetization\"]\n",
    "\n",
    "\n",
    "# Need to parsed this \n",
    "# Base platform\n",
    "#\n",
    "scheme = 'https'\n",
    "netloc = 'www.materialsproject.org'\n",
    "\n",
    "\n",
    "\n",
    "# Using urllib to \n",
    "#o = urllib.parse.urlparse(base)\n",
    "\n",
    "\n",
    "# Combination new data using Material project \n",
    "# testing \n",
    "r = requests.get(\"https://materialsproject.org/rest/v2/tasks/mvc-16102/\",headers=headers)\n",
    "\n",
    "# Rise Error\n",
    "if r.status_code!=200:\n",
    "    print(\"Error\")\n",
    "\n",
    "\n",
    "#print(r.url)\n",
    "\n",
    "#print(r.content)"
   ]
  },
  {
   "cell_type": "code",
   "execution_count": 6,
   "metadata": {},
   "outputs": [
    {
     "data": {
      "text/plain": [
       "ParseResult(scheme='https', netloc='materialsproject.org', path='/rest/v2/tasks/mvc-16102/', params='', query='', fragment='')"
      ]
     },
     "execution_count": 6,
     "metadata": {},
     "output_type": "execute_result"
    }
   ],
   "source": [
    "o = urllib.parse.urlparse(r.url)\n",
    "o"
   ]
  },
  {
   "cell_type": "code",
   "execution_count": 7,
   "metadata": {},
   "outputs": [
    {
     "data": {
      "text/plain": [
       "'https://materialsproject.org/rest/v2/tasks/mvc-16102/'"
      ]
     },
     "execution_count": 7,
     "metadata": {},
     "output_type": "execute_result"
    }
   ],
   "source": [
    "r.url"
   ]
  },
  {
   "cell_type": "code",
   "execution_count": 44,
   "metadata": {},
   "outputs": [],
   "source": [
    "r = requests.get(\"https://www.materialsproject.org/rest/v2/materials/Fe2O3/vasp\",headers=headers)\n"
   ]
  },
  {
   "cell_type": "code",
   "execution_count": null,
   "metadata": {},
   "outputs": [],
   "source": [
    "\n",
    "# dumping into json_file\n",
    "with open('element_atommass.json','w') as fp:\n",
    "    json.dump(element_atommass_dict, fp)\n"
   ]
  },
  {
   "cell_type": "code",
   "execution_count": 10,
   "metadata": {},
   "outputs": [],
   "source": [
    "# test loading json file\n",
    "with open('element_atommass.json') as handle:\n",
    "    dict_dump = json.loads(handle.read())\n"
   ]
  },
  {
   "cell_type": "code",
   "execution_count": 17,
   "metadata": {},
   "outputs": [
    {
     "name": "stdout",
     "output_type": "stream",
     "text": [
      "51\n",
      "2550\n",
      "Li-K\n"
     ]
    }
   ],
   "source": [
    "cation = list(dict_dump.keys())\n",
    "import itertools\n",
    "print(len(cation))\n",
    "cat_list= list(itertools.permutations(cation,2))\n",
    "# 1275 combinations since Ni-Cr and \n",
    "print(len(cat_list))\n",
    "para_list = []\n",
    "\n",
    "for i in range(len(cat_list)):\n",
    "    para_list.append(cat_list[i][0]+'-'+cat_list[i][1])\n",
    "\n",
    "print(para_list[3])"
   ]
  },
  {
   "cell_type": "code",
   "execution_count": 89,
   "metadata": {},
   "outputs": [
    {
     "data": {
      "text/plain": [
       "'Li-Be'"
      ]
     },
     "execution_count": 89,
     "metadata": {},
     "output_type": "execute_result"
    }
   ],
   "source": [
    "cat_list[0][0] + '-' + cat_list[0][1]"
   ]
  },
  {
   "cell_type": "code",
   "execution_count": 99,
   "metadata": {},
   "outputs": [
    {
     "data": {
      "text/plain": [
       "[('Na', 'Cl'),\n",
       " ('Na', 'H'),\n",
       " ('Na', 'Ca'),\n",
       " ('Cl', 'Na'),\n",
       " ('Cl', 'H'),\n",
       " ('Cl', 'Ca'),\n",
       " ('H', 'Na'),\n",
       " ('H', 'Cl'),\n",
       " ('H', 'Ca'),\n",
       " ('Ca', 'Na'),\n",
       " ('Ca', 'Cl'),\n",
       " ('Ca', 'H')]"
      ]
     },
     "execution_count": 99,
     "metadata": {},
     "output_type": "execute_result"
    }
   ],
   "source": [
    "list_test = ['Na','Cl','H','Ca']\n",
    "\n",
    "list(itertools.permutations(list_test,2))"
   ]
  },
  {
   "cell_type": "code",
   "execution_count": 123,
   "metadata": {},
   "outputs": [],
   "source": [
    "\n",
    "# all helper function to extract information, i is the rows, while loct = the loction of the properties in list\n",
    "\n",
    "# checking key and alerts if it doesn't match\n",
    "def check_key(properties_list,result,i,loct):\n",
    "    if list(result[i].keys())[loct] != properties_list[loct]:\n",
    "        raise ValueError('Represents a hidden bug, do not catch this')\n",
    "# get values in the dict, only use for single values\n",
    "def get_value(properties_list,result,i,loct):\n",
    "    check_key(properties_list,result,i,loct)\n",
    "    value = list(result[i].values())[loct]\n",
    "    return value\n",
    "\n",
    "def get_pretty_formula(properties_list,result,i,loct):\n",
    "    value = get_value(properties_list,result,i,loct)\n",
    "    return value\n",
    "\n",
    "def get_unit_cell(properties_list,result,i,loct):\n",
    "    unit_cell = get_value(properties_list,result,i,loct)\n",
    "    element = list(unit_cell.values())\n",
    "    nele = list(unit_cell.keys())\n",
    "    return element,nele\n",
    "\n",
    "#def get_str(properties_list,result,i,loct):\n",
    "    \n",
    "def icsd_ids(properties_list,result,i,loct):\n",
    "    check_key(properties_list,result,i,loct)\n",
    "    return value\n",
    "\n",
    "def get_energy(properties_list,result,i,loct):\n",
    "    value = get_value(properties_list,result,i,loct)\n",
    "    return value\n",
    "\n",
    "def get_energy_per_atom(properties_list,result,i,loct):\n",
    "    value = get_value(properties_list,result,i,loct)\n",
    "    return value\n",
    "\n",
    "def get_volume(properties_list,result,i,loct):\n",
    "    value = get_value(properties_list,result,i,loct)\n",
    "    return value\n",
    "\n",
    "def get_density(properties_list,result,i,loct):\n",
    "    value = get_value(properties_list,result,i,loct)\n",
    "    return value\n",
    "\n",
    "def get_nsites(properties_list,result,i,loct):\n",
    "    value = get_value(properties_list,result,i,loct)\n",
    "    return value\n",
    "\n",
    "def get_elements(properties_list,result,i,loct):\n",
    "    element_list = get_value(properties_list,result,i,loct)\n",
    "    return element_list\n",
    "# mat_list_para = [\"pretty_formula\",\"unit_cell_formula\",\"icsd_ids\",\"energy\",\"energy_per_atom\",\\\n",
    "#                  \"volume\",\"density\",\"nsites\",\"elements\",\"nelements\",\"spacegroup\",\"initial_structure\",\\\n",
    "#                  \"final_structure\",\"structure\",\"cif\",\"formlation_energy_per_atom\",\"e_above_hull\",\\\n",
    "#                  \"elasticity\",\"piezo\",\"diel\",\"is_hubbard\",\"hubbards\",\"is_compatible\",\\\n",
    "#                  \"band_gap\",\"dos\",\"bandstructure\",\"bandstructure_uniform\",\"entry\",\"total_magnetization\"]\n",
    "\n",
    "def get_nelements(properties_list,result,i,loct):\n",
    "    value = get_value(properties_list,result,i,loct)\n",
    "    return value\n",
    "\n",
    "# need to be more refine for this sturcture\n",
    "def get_spacegroup(properties_list,result,i,loct):\n",
    "    space_group_list = get_value(properties_list,result,i,loct)\n",
    "    return space_group_list\n",
    "\n",
    "#def get_initial_structure(properties_list,result,i,loct):\n",
    "\n"
   ]
  },
  {
   "cell_type": "code",
   "execution_count": 135,
   "metadata": {},
   "outputs": [
    {
     "name": "stdout",
     "output_type": "stream",
     "text": [
      "# generated using pymatgen\n",
      "data_TiO2\n",
      "_symmetry_space_group_name_H-M   'P 1'\n",
      "_cell_length_a   2.98206301\n",
      "_cell_length_b   4.96901607\n",
      "_cell_length_c   9.55646497\n",
      "_cell_angle_alpha   90.00000000\n",
      "_cell_angle_beta   90.00000000\n",
      "_cell_angle_gamma   90.00000000\n",
      "_symmetry_Int_Tables_number   1\n",
      "_chemical_formula_structural   TiO2\n",
      "_chemical_formula_sum   'Ti4 O8'\n",
      "_cell_volume   141.60692403\n",
      "_cell_formula_units_Z   4\n",
      "loop_\n",
      " _symmetry_equiv_pos_site_id\n",
      " _symmetry_equiv_pos_as_xyz\n",
      "  1  'x, y, z'\n",
      "loop_\n",
      " _atom_site_type_symbol\n",
      " _atom_site_label\n",
      " _atom_site_symmetry_multiplicity\n",
      " _atom_site_fract_x\n",
      " _atom_site_fract_y\n",
      " _atom_site_fract_z\n",
      " _atom_site_occupancy\n",
      "  O  O0  1  0.250000  0.296882  0.468962  1\n",
      "  O  O1  1  0.750000  0.703118  0.531038  1\n",
      "  O  O2  1  0.750000  0.796882  0.031038  1\n",
      "  O  O3  1  0.250000  0.203118  0.968962  1\n",
      "  O  O4  1  0.250000  0.638500  0.267734  1\n",
      "  O  O5  1  0.750000  0.361500  0.732266  1\n",
      "  O  O6  1  0.750000  0.138500  0.232266  1\n",
      "  O  O7  1  0.250000  0.861500  0.767734  1\n",
      "  Ti  Ti8  1  0.250000  0.576660  0.637811  1\n",
      "  Ti  Ti9  1  0.750000  0.423340  0.362189  1\n",
      "  Ti  Ti10  1  0.750000  0.076660  0.862189  1\n",
      "  Ti  Ti11  1  0.250000  0.923340  0.137811  1\n",
      "\n",
      "TiO2\n"
     ]
    }
   ],
   "source": [
    "# Inputs Elements List\n",
    "element_list= [\"Ti\",\"O\"]\n",
    "\n",
    "from pymatgen import MPRester\n",
    "API_KEY = \"3R9zWcrIXJat8wpM\"\n",
    "mpr = MPRester(API_KEY)\n",
    "properties_list = ['formula','pretty_formula','cif']\n",
    "\n",
    "result = mpr.query(criteria={\"elements\":element_list},properties=properties_list)\n",
    "\n",
    "print(list(result[1].values())[2])\n",
    "formula = get_pretty_formula(properties_list,result,1,1)\n",
    "print(formula)\n",
    "f = open(formula+\".cif\",\"w\")\n",
    "f.write(list(result[1].values())[2])\n",
    "f.close()\n"
   ]
  },
  {
   "cell_type": "code",
   "execution_count": 113,
   "metadata": {},
   "outputs": [
    {
     "name": "stdout",
     "output_type": "stream",
     "text": [
      "{'source': 'spglib', 'symbol': 'Pnma', 'number': 62, 'point_group': 'mmm', 'crystal_system': 'orthorhombic', 'hall': '-P 2ac 2n'}\n",
      "spacegroup\n"
     ]
    }
   ],
   "source": [
    "# first 1 should be i, while second 1 should be list\n",
    "#dict x = key , y = values\n",
    "print(list(result[1].values())[1])\n",
    "print(properties_list[1])\n"
   ]
  },
  {
   "cell_type": "code",
   "execution_count": 51,
   "metadata": {},
   "outputs": [
    {
     "name": "stdout",
     "output_type": "stream",
     "text": [
      "formula\n"
     ]
    }
   ],
   "source": [
    "print(list(result[1].keys())[0])"
   ]
  },
  {
   "cell_type": "code",
   "execution_count": null,
   "metadata": {},
   "outputs": [],
   "source": []
  }
 ],
 "metadata": {
  "kernelspec": {
   "display_name": "Python [conda env:scire] *",
   "language": "python",
   "name": "conda-env-scire-py"
  },
  "language_info": {
   "codemirror_mode": {
    "name": "ipython",
    "version": 3
   },
   "file_extension": ".py",
   "mimetype": "text/x-python",
   "name": "python",
   "nbconvert_exporter": "python",
   "pygments_lexer": "ipython3",
   "version": "3.7.3"
  },
  "varInspector": {
   "cols": {
    "lenName": 16,
    "lenType": 16,
    "lenVar": 40
   },
   "kernels_config": {
    "python": {
     "delete_cmd_postfix": "",
     "delete_cmd_prefix": "del ",
     "library": "var_list.py",
     "varRefreshCmd": "print(var_dic_list())"
    },
    "r": {
     "delete_cmd_postfix": ") ",
     "delete_cmd_prefix": "rm(",
     "library": "var_list.r",
     "varRefreshCmd": "cat(var_dic_list()) "
    }
   },
   "types_to_exclude": [
    "module",
    "function",
    "builtin_function_or_method",
    "instance",
    "_Feature"
   ],
   "window_display": false
  }
 },
 "nbformat": 4,
 "nbformat_minor": 2
}
